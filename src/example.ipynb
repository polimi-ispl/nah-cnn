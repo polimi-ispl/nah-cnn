{
  "nbformat": 4,
  "nbformat_minor": 0,
  "metadata": {
    "colab": {
      "name": "example.ipynb",
      "provenance": [],
      "collapsed_sections": []
    },
    "kernelspec": {
      "name": "python3",
      "display_name": "Python 3"
    }
  },
  "cells": [
    {
      "cell_type": "markdown",
      "metadata": {
        "id": "5eq8_6SW7FL7",
        "colab_type": "text"
      },
      "source": [
        "# Imports"
      ]
    },
    {
      "cell_type": "code",
      "metadata": {
        "id": "M-HlS6Me9kBc",
        "colab_type": "code",
        "colab": {}
      },
      "source": [
        "from tensorflow import keras\n",
        "from sklearn.metrics import mean_squared_error\n",
        "import numpy as np\n",
        "import pickle\n",
        "import matplotlib.pyplot as plt"
      ],
      "execution_count": 43,
      "outputs": []
    },
    {
      "cell_type": "markdown",
      "metadata": {
        "id": "FFrpbPl7Fxei",
        "colab_type": "text"
      },
      "source": [
        "# Load data\n",
        "Dimensions: [16, 64, 1]"
      ]
    },
    {
      "cell_type": "markdown",
      "metadata": {
        "id": "OkSC2iwYF5Rf",
        "colab_type": "text"
      },
      "source": [
        "Simply Supported coundary conditions"
      ]
    },
    {
      "cell_type": "code",
      "metadata": {
        "id": "WQJ_XJCEF0aJ",
        "colab_type": "code",
        "colab": {}
      },
      "source": [
        "# retrieve pressure image\n",
        "with open(\"simply_pressure_in\", 'rb') as data:\n",
        "  X_simply = pickle.load(data)\n",
        "\n",
        "# retrieve velocity ground truth image\n",
        "with open(\"simply_velocity_gt\", 'rb') as data:\n",
        "  GT_simply = pickle.load(data)"
      ],
      "execution_count": 90,
      "outputs": []
    },
    {
      "cell_type": "markdown",
      "metadata": {
        "id": "YKa_oN7IF90P",
        "colab_type": "text"
      },
      "source": [
        "Clamped boundary conditions"
      ]
    },
    {
      "cell_type": "code",
      "metadata": {
        "id": "IYO66ZsaF9Ta",
        "colab_type": "code",
        "colab": {}
      },
      "source": [
        "# retrieve pressure image\n",
        "with open(\"clamped_pressure_in\", 'rb') as data:\n",
        "  X_clamped = pickle.load(data)\n",
        "\n",
        "# retrieve velocity ground truth image\n",
        "with open(\"clamped_velocity_gt\", 'rb') as data:\n",
        "  GT_clamped = pickle.load(data)"
      ],
      "execution_count": 91,
      "outputs": []
    },
    {
      "cell_type": "markdown",
      "metadata": {
        "id": "H2SOqJJcGDEy",
        "colab_type": "text"
      },
      "source": [
        "Free boundary conditions"
      ]
    },
    {
      "cell_type": "code",
      "metadata": {
        "id": "pEoE4qRPGALQ",
        "colab_type": "code",
        "colab": {}
      },
      "source": [
        "# retrieve pressure image\n",
        "with open(\"free_pressure_in\", 'rb') as data:\n",
        "  X_free = pickle.load(data)\n",
        "\n",
        "# retrieve velocity ground truth image\n",
        "with open(\"free_velocity_gt\", 'rb') as data:\n",
        "  GT_free = pickle.load(data)"
      ],
      "execution_count": 92,
      "outputs": []
    },
    {
      "cell_type": "markdown",
      "metadata": {
        "id": "7IC9O6S4CBUO",
        "colab_type": "text"
      },
      "source": [
        "# Metrics definition"
      ]
    },
    {
      "cell_type": "markdown",
      "metadata": {
        "id": "0oMM4vYVCKTP",
        "colab_type": "text"
      },
      "source": [
        "Normalized Cross Correlation"
      ]
    },
    {
      "cell_type": "code",
      "metadata": {
        "id": "UCZwhCF2CDj7",
        "colab_type": "code",
        "colab": {}
      },
      "source": [
        "def nccMetric(out, gt):\n",
        "  ''' \n",
        "    out: ndarray image prediction\n",
        "    gt: ndarray image ground truth\n",
        "    returns -> normalized cross correlation\n",
        "  '''\n",
        "  numerator = np.sum(out.reshape(16,64) * gt.reshape(16,64))\n",
        "  a = np.sqrt(np.sum(np.power(out.reshape(16,64), 2)))\n",
        "  b = np.sqrt(np.sum(np.power(gt.reshape(16,64), 2)))\n",
        "  denominator = a * b\n",
        "\n",
        "  return numerator/denominator"
      ],
      "execution_count": 93,
      "outputs": []
    },
    {
      "cell_type": "markdown",
      "metadata": {
        "id": "NSYs620fCQ3-",
        "colab_type": "text"
      },
      "source": [
        "Normalized Mean Square Error"
      ]
    },
    {
      "cell_type": "code",
      "metadata": {
        "id": "ce4dKywPCJQl",
        "colab_type": "code",
        "colab": {}
      },
      "source": [
        "def nmseMetric(out, gt):\n",
        "  ''' \n",
        "    out: ndarray image prediction\n",
        "    gt: ndarray image ground truth\n",
        "    returns -> normalized mean square error in dB\n",
        "  '''\n",
        "  prediction_img = out.reshape(16,64)\n",
        "  groundtruth_img = gt.reshape(16,64)\n",
        "  \n",
        "  numerator = mean_squared_error(prediction_img, groundtruth_img)\n",
        "  denominator = mean_squared_error(groundtruth_img, np.zeros(groundtruth_img.shape))\n",
        "\n",
        "  return 10*np.log10(numerator/denominator)"
      ],
      "execution_count": 94,
      "outputs": []
    },
    {
      "cell_type": "markdown",
      "metadata": {
        "id": "JPCrA0Qm9wva",
        "colab_type": "text"
      },
      "source": [
        "# Noiseless validation"
      ]
    },
    {
      "cell_type": "markdown",
      "metadata": {
        "id": "z0tanBsW7kZp",
        "colab_type": "text"
      },
      "source": [
        "## Load model & weights"
      ]
    },
    {
      "cell_type": "code",
      "metadata": {
        "id": "mM0bKMMY9U2q",
        "colab_type": "code",
        "colab": {}
      },
      "source": [
        "model = keras.models.load_model(\"weights_clean.h5\", compile=True)"
      ],
      "execution_count": 95,
      "outputs": []
    },
    {
      "cell_type": "markdown",
      "metadata": {
        "id": "lYjpzo-o9q10",
        "colab_type": "text"
      },
      "source": [
        "## Simply Supported boundary condition"
      ]
    },
    {
      "cell_type": "markdown",
      "metadata": {
        "id": "zcbW8Pgj-xrH",
        "colab_type": "text"
      },
      "source": [
        "Prediction"
      ]
    },
    {
      "cell_type": "code",
      "metadata": {
        "id": "MIv1xH59-zDD",
        "colab_type": "code",
        "colab": {}
      },
      "source": [
        "OUT_simply = model.predict(X_simply.reshape(1,16,64,1))[0]"
      ],
      "execution_count": 96,
      "outputs": []
    },
    {
      "cell_type": "markdown",
      "metadata": {
        "id": "00SJysCFDqpU",
        "colab_type": "text"
      },
      "source": [
        "Metrics evaluation"
      ]
    },
    {
      "cell_type": "code",
      "metadata": {
        "id": "PBNlA_IjDsN9",
        "colab_type": "code",
        "colab": {
          "base_uri": "https://localhost:8080/",
          "height": 52
        },
        "outputId": "8deef86d-1dd4-4a30-cfc5-577a11854d41"
      },
      "source": [
        "ncc_simply = nccMetric(OUT_simply, GT_simply)\n",
        "nmse_simply = nmseMetric(OUT_simply, GT_simply)\n",
        "\n",
        "print(\"NCC = \", ncc_simply)\n",
        "print(\"NMSE(dB) = \", nmse_simply)"
      ],
      "execution_count": 97,
      "outputs": [
        {
          "output_type": "stream",
          "text": [
            "NCC =  0.9998840708910808\n",
            "NMSE(dB) =  -36.28713053511174\n"
          ],
          "name": "stdout"
        }
      ]
    },
    {
      "cell_type": "markdown",
      "metadata": {
        "id": "8VuFBteJ_tvO",
        "colab_type": "text"
      },
      "source": [
        "View output"
      ]
    },
    {
      "cell_type": "code",
      "metadata": {
        "id": "Qvk0ofqf_v0c",
        "colab_type": "code",
        "colab": {
          "base_uri": "https://localhost:8080/",
          "height": 294
        },
        "outputId": "d535c21b-aad6-4e6d-c31c-1ede6258eb6f"
      },
      "source": [
        "fig = plt.figure()\n",
        "fig.suptitle(\"Simply Supported BC prediction\", fontsize=16)\n",
        "\n",
        "# IN\n",
        "ax1 = plt.subplot(3, 1, 1)\n",
        "first = plt.imshow(X_simply.reshape(16, 64))\n",
        "plt.ylabel(\"IN pressure\")\n",
        "plt.gray()\n",
        "\n",
        "# OUT\n",
        "ax2 = plt.subplot(3, 1, 2, sharex=ax1)\n",
        "plt.imshow(OUT_simply.reshape(16, 64))\n",
        "plt.ylabel(\"OUT estimated\")\n",
        "plt.gray()\n",
        "\n",
        "# GT\n",
        "ax3 = plt.subplot(3, 1, 3, sharex=ax2)\n",
        "plt.imshow(GT_simply.reshape(16, 64))\n",
        "plt.ylabel(\"GT velocity\")\n",
        "plt.gray()\n",
        "\n",
        "plt.setp(ax1.get_xticklabels(), visible=False)\n",
        "plt.setp(ax2.get_xticklabels(), visible=False)\n",
        "fig.colorbar(first, ax=[ax1, ax2, ax3])\n",
        "\n",
        "plt.show()"
      ],
      "execution_count": 98,
      "outputs": [
        {
          "output_type": "display_data",
          "data": {
            "image/png": "[encoded data removed]",
            "text/plain": [
              "<Figure size 432x288 with 4 Axes>"
            ]
          },
          "metadata": {
            "tags": [],
            "needs_background": "light"
          }
        }
      ]
    },
    {
      "cell_type": "markdown",
      "metadata": {
        "colab_type": "text",
        "id": "rVZx7aX7BTHR"
      },
      "source": [
        "## Clamped boundary condition"
      ]
    },
    {
      "cell_type": "markdown",
      "metadata": {
        "colab_type": "text",
        "id": "Fl7UPrkXBTHW"
      },
      "source": [
        "Prediction"
      ]
    },
    {
      "cell_type": "code",
      "metadata": {
        "colab_type": "code",
        "id": "BawEz7ExBTHX",
        "colab": {}
      },
      "source": [
        "OUT_clamped = model.predict(X_clamped.reshape(1,16,64,1))"
      ],
      "execution_count": 99,
      "outputs": []
    },
    {
      "cell_type": "markdown",
      "metadata": {
        "colab_type": "text",
        "id": "Y2LF4yi-Ecit"
      },
      "source": [
        "Metrics evaluation"
      ]
    },
    {
      "cell_type": "code",
      "metadata": {
        "colab_type": "code",
        "id": "e1nLIatPEciy",
        "colab": {
          "base_uri": "https://localhost:8080/",
          "height": 52
        },
        "outputId": "bc134b51-8215-441d-a373-5b98aadf7c18"
      },
      "source": [
        "ncc_clamped = nccMetric(OUT_clamped, GT_clamped)\n",
        "nmse_clamped = nmseMetric(OUT_clamped, GT_clamped)\n",
        "\n",
        "print(\"NCC = \", ncc_clamped)\n",
        "print(\"NMSE(dB) = \", nmse_clamped)"
      ],
      "execution_count": 100,
      "outputs": [
        {
          "output_type": "stream",
          "text": [
            "NCC =  0.9997582227982531\n",
            "NMSE(dB) =  -31.920904021547017\n"
          ],
          "name": "stdout"
        }
      ]
    },
    {
      "cell_type": "markdown",
      "metadata": {
        "colab_type": "text",
        "id": "XijLKvM2BTHa"
      },
      "source": [
        "View output"
      ]
    },
    {
      "cell_type": "code",
      "metadata": {
        "colab_type": "code",
        "id": "63idqLigBTHa",
        "colab": {
          "base_uri": "https://localhost:8080/",
          "height": 294
        },
        "outputId": "f8510302-6988-491b-cd7c-52567569fda0"
      },
      "source": [
        "fig = plt.figure()\n",
        "fig.suptitle(\"Clamped BC prediction\", fontsize=16)\n",
        "\n",
        "# IN\n",
        "ax1 = plt.subplot(3, 1, 1)\n",
        "first = plt.imshow(X_clamped.reshape(16, 64))\n",
        "plt.ylabel(\"IN pressure\")\n",
        "plt.gray()\n",
        "\n",
        "# OUT\n",
        "ax2 = plt.subplot(3, 1, 2, sharex=ax1)\n",
        "plt.imshow(OUT_clamped.reshape(16, 64))\n",
        "plt.ylabel(\"OUT estimated\")\n",
        "plt.gray()\n",
        "\n",
        "# GT\n",
        "ax3 = plt.subplot(3, 1, 3, sharex=ax2)\n",
        "plt.imshow(GT_clamped.reshape(16, 64))\n",
        "plt.ylabel(\"GT velocity\")\n",
        "plt.gray()\n",
        "\n",
        "plt.setp(ax1.get_xticklabels(), visible=False)\n",
        "plt.setp(ax2.get_xticklabels(), visible=False)\n",
        "fig.colorbar(first, ax=[ax1, ax2, ax3])\n",
        "\n",
        "plt.show()"
      ],
      "execution_count": 101,
      "outputs": [
        {
          "output_type": "display_data",
          "data": {
            "image/png": "[encoded data removed]",
            "text/plain": [
              "<Figure size 432x288 with 4 Axes>"
            ]
          },
          "metadata": {
            "tags": [],
            "needs_background": "light"
          }
        }
      ]
    },
    {
      "cell_type": "markdown",
      "metadata": {
        "colab_type": "text",
        "id": "vSoflzQmBvL_"
      },
      "source": [
        "## Free boundary condition"
      ]
    },
    {
      "cell_type": "markdown",
      "metadata": {
        "colab_type": "text",
        "id": "24-2ZsKEBvMF"
      },
      "source": [
        "Prediction"
      ]
    },
    {
      "cell_type": "code",
      "metadata": {
        "colab_type": "code",
        "id": "CUWeVgJdBvMG",
        "colab": {}
      },
      "source": [
        "OUT_free = model.predict(X_free.reshape(1,16,64,1))"
      ],
      "execution_count": 102,
      "outputs": []
    },
    {
      "cell_type": "markdown",
      "metadata": {
        "colab_type": "text",
        "id": "NfZKgunWEhK4"
      },
      "source": [
        "Metrics evaluation"
      ]
    },
    {
      "cell_type": "code",
      "metadata": {
        "colab_type": "code",
        "id": "Z_q5vk7xEhK5",
        "colab": {
          "base_uri": "https://localhost:8080/",
          "height": 52
        },
        "outputId": "8fa870f3-4b08-46f8-b6cb-36e2efdf1c26"
      },
      "source": [
        "ncc_free = nccMetric(OUT_free, GT_free)\n",
        "nmse_free = nmseMetric(OUT_free, GT_free)\n",
        "\n",
        "print(\"NCC = \", ncc_free)\n",
        "print(\"NMSE(dB) = \", nmse_free)"
      ],
      "execution_count": 103,
      "outputs": [
        {
          "output_type": "stream",
          "text": [
            "NCC =  0.9996644783670934\n",
            "NMSE(dB) =  -30.155348910272085\n"
          ],
          "name": "stdout"
        }
      ]
    },
    {
      "cell_type": "markdown",
      "metadata": {
        "colab_type": "text",
        "id": "znpQNAyWBvMI"
      },
      "source": [
        "View output"
      ]
    },
    {
      "cell_type": "code",
      "metadata": {
        "colab_type": "code",
        "id": "DgN18ZhOBvMI",
        "colab": {
          "base_uri": "https://localhost:8080/",
          "height": 294
        },
        "outputId": "592a130b-c012-4a6b-b3aa-64ceb12918fc"
      },
      "source": [
        "fig = plt.figure()\n",
        "fig.suptitle(\"Free BC prediction\", fontsize=16)\n",
        "\n",
        "# IN\n",
        "ax1 = plt.subplot(3, 1, 1)\n",
        "first = plt.imshow(X_free.reshape(16, 64))\n",
        "plt.ylabel(\"IN pressure\")\n",
        "plt.gray()\n",
        "\n",
        "# OUT\n",
        "ax2 = plt.subplot(3, 1, 2, sharex=ax1)\n",
        "plt.imshow(OUT_free.reshape(16, 64))\n",
        "plt.ylabel(\"OUT estimated\")\n",
        "plt.gray()\n",
        "\n",
        "# GT\n",
        "ax3 = plt.subplot(3, 1, 3, sharex=ax2)\n",
        "plt.imshow(GT_free.reshape(16, 64))\n",
        "plt.ylabel(\"GT velocity\")\n",
        "plt.gray()\n",
        "\n",
        "plt.setp(ax1.get_xticklabels(), visible=False)\n",
        "plt.setp(ax2.get_xticklabels(), visible=False)\n",
        "fig.colorbar(first, ax=[ax1, ax2, ax3])\n",
        "\n",
        "plt.show()"
      ],
      "execution_count": 104,
      "outputs": [
        {
          "output_type": "display_data",
          "data": {
            "image/png": "[encoded data removed]",
            "text/plain": [
              "<Figure size 432x288 with 4 Axes>"
            ]
          },
          "metadata": {
            "tags": [],
            "needs_background": "light"
          }
        }
      ]
    },
    {
      "cell_type": "markdown",
      "metadata": {
        "colab_type": "text",
        "id": "lvJOOWOrGyIE"
      },
      "source": [
        "# Additive noise validation"
      ]
    },
    {
      "cell_type": "markdown",
      "metadata": {
        "id": "AG8fBTIMHARu",
        "colab_type": "text"
      },
      "source": [
        "## Additive white noise"
      ]
    },
    {
      "cell_type": "markdown",
      "metadata": {
        "id": "5DctNbxxH5Jm",
        "colab_type": "text"
      },
      "source": [
        "Define additive white noise"
      ]
    },
    {
      "cell_type": "code",
      "metadata": {
        "id": "rYvQ0dPjHFAl",
        "colab_type": "code",
        "colab": {}
      },
      "source": [
        "def add_noise(img, snr_dB):\n",
        "    ''' \n",
        "    img: ndarray clean image\n",
        "    snr: +dB\n",
        "    returns -> noisy image as np.ndarray\n",
        "    '''\n",
        "    img = img.reshape(16, 64)\n",
        "\n",
        "    # convert SNR from dB to num\n",
        "    snr = 10.0 ** (snr_dB / 10.0)\n",
        "\n",
        "    # Generate the noise\n",
        "    noise = np.random.random(img.size).reshape(img.shape)\n",
        "    \n",
        "    # work out the current SNR\n",
        "    current_snr = np.mean(img) / np.std(noise)\n",
        "    \n",
        "    # scale the noise by the snr ratios (smaller noise <=> larger snr)\n",
        "    noise *= (current_snr / snr)\n",
        "\n",
        "    # add noise and normalize\n",
        "    noisy_img = img + noise\n",
        "    noisy_img = noisy_img/np.max(noisy_img)\n",
        "\n",
        "    return noisy_img.reshape(16, 64, 1)"
      ],
      "execution_count": 125,
      "outputs": []
    },
    {
      "cell_type": "markdown",
      "metadata": {
        "id": "plTV6gOcI6m_",
        "colab_type": "text"
      },
      "source": [
        "Build noisy pressure images with specific SNR"
      ]
    },
    {
      "cell_type": "code",
      "metadata": {
        "id": "4HysViBoICkg",
        "colab_type": "code",
        "colab": {
          "base_uri": "https://localhost:8080/",
          "height": 294
        },
        "outputId": "dcf1196e-7854-4bb2-bf5e-b9c9e798625e"
      },
      "source": [
        "snr_dB = 15\n",
        "\n",
        "X_simply_noisy = add_noise(X_simply, snr_dB)\n",
        "X_clamped_noisy = add_noise(X_clamped, snr_dB)\n",
        "X_free_noisy = add_noise(X_free, snr_dB)\n",
        "\n",
        "fig = plt.figure()\n",
        "fig.suptitle(\"Noisy pressure images - SNR(dB) = \"+str(snr_dB), fontsize=16)\n",
        "\n",
        "# IN\n",
        "ax1 = plt.subplot(3, 1, 1)\n",
        "first = plt.imshow(X_simply_noisy.reshape(16, 64))\n",
        "plt.ylabel(\"Simply\")\n",
        "plt.gray()\n",
        "\n",
        "# OUT\n",
        "ax2 = plt.subplot(3, 1, 2, sharex=ax1)\n",
        "plt.imshow(X_clamped_noisy.reshape(16, 64))\n",
        "plt.ylabel(\"Clamped\")\n",
        "plt.gray()\n",
        "\n",
        "# GT\n",
        "ax3 = plt.subplot(3, 1, 3, sharex=ax2)\n",
        "plt.imshow(X_free_noisy.reshape(16, 64))\n",
        "plt.ylabel(\"Free\")\n",
        "plt.gray()\n",
        "\n",
        "plt.setp(ax1.get_xticklabels(), visible=False)\n",
        "plt.setp(ax2.get_xticklabels(), visible=False)\n",
        "fig.colorbar(first, ax=[ax1, ax2, ax3])\n",
        "\n",
        "plt.show()"
      ],
      "execution_count": 131,
      "outputs": [
        {
          "output_type": "display_data",
          "data": {
            "image/png": "[encoded data removed]",
            "text/plain": [
              "<Figure size 432x288 with 4 Axes>"
            ]
          },
          "metadata": {
            "tags": [],
            "needs_background": "light"
          }
        }
      ]
    },
    {
      "cell_type": "markdown",
      "metadata": {
        "colab_type": "text",
        "id": "vPl1MD08GyIF"
      },
      "source": [
        "## Load model & weights"
      ]
    },
    {
      "cell_type": "code",
      "metadata": {
        "colab_type": "code",
        "id": "vyImxMEUGyIF",
        "colab": {}
      },
      "source": [
        "model = keras.models.load_model(\"weigths_noise40SNR.h5\", compile=True)"
      ],
      "execution_count": 127,
      "outputs": []
    },
    {
      "cell_type": "markdown",
      "metadata": {
        "colab_type": "text",
        "id": "tlYv9Ze2GyII"
      },
      "source": [
        "## Simply Supported boundary condition"
      ]
    },
    {
      "cell_type": "markdown",
      "metadata": {
        "colab_type": "text",
        "id": "_hRR995fGyII"
      },
      "source": [
        "Prediction"
      ]
    },
    {
      "cell_type": "code",
      "metadata": {
        "colab_type": "code",
        "id": "at5UeIfrGyIJ",
        "colab": {}
      },
      "source": [
        "OUT_simply_noisy = model.predict(X_simply_noisy.reshape(1,16,64,1))[0]"
      ],
      "execution_count": 132,
      "outputs": []
    },
    {
      "cell_type": "markdown",
      "metadata": {
        "colab_type": "text",
        "id": "AWMeG0qZGyIL"
      },
      "source": [
        "Metrics evaluation"
      ]
    },
    {
      "cell_type": "code",
      "metadata": {
        "colab_type": "code",
        "id": "IxUGpZKQGyIL",
        "colab": {
          "base_uri": "https://localhost:8080/",
          "height": 52
        },
        "outputId": "90c302b4-2999-4df6-84f7-f22712a25f93"
      },
      "source": [
        "ncc_simply_noisy = nccMetric(OUT_simply_noisy, GT_simply)\n",
        "nmse_simply_noisy = nmseMetric(OUT_simply_noisy, GT_simply)\n",
        "\n",
        "print(\"NCC = \", ncc_simply_noisy)\n",
        "print(\"NMSE(dB) = \", nmse_simply_noisy)"
      ],
      "execution_count": 133,
      "outputs": [
        {
          "output_type": "stream",
          "text": [
            "NCC =  0.9997156606277069\n",
            "NMSE(dB) =  -32.237519485171745\n"
          ],
          "name": "stdout"
        }
      ]
    },
    {
      "cell_type": "markdown",
      "metadata": {
        "colab_type": "text",
        "id": "MrsBXtthGyIO"
      },
      "source": [
        "View output"
      ]
    },
    {
      "cell_type": "code",
      "metadata": {
        "colab_type": "code",
        "id": "r1EI9q8zGyIP",
        "colab": {
          "base_uri": "https://localhost:8080/",
          "height": 294
        },
        "outputId": "d0a629dd-3225-4ab7-e174-85eb858f397e"
      },
      "source": [
        "fig = plt.figure()\n",
        "fig.suptitle(\"Simply Supported BC prediction\", fontsize=16)\n",
        "\n",
        "# IN\n",
        "ax1 = plt.subplot(3, 1, 1)\n",
        "first = plt.imshow(X_simply_noisy.reshape(16, 64))\n",
        "plt.ylabel(\"IN pressure\")\n",
        "plt.gray()\n",
        "\n",
        "# OUT\n",
        "ax2 = plt.subplot(3, 1, 2, sharex=ax1)\n",
        "plt.imshow(OUT_simply_noisy.reshape(16, 64))\n",
        "plt.ylabel(\"OUT estimated\")\n",
        "plt.gray()\n",
        "\n",
        "# GT\n",
        "ax3 = plt.subplot(3, 1, 3, sharex=ax2)\n",
        "plt.imshow(GT_simply.reshape(16, 64))\n",
        "plt.ylabel(\"GT velocity\")\n",
        "plt.gray()\n",
        "\n",
        "plt.setp(ax1.get_xticklabels(), visible=False)\n",
        "plt.setp(ax2.get_xticklabels(), visible=False)\n",
        "fig.colorbar(first, ax=[ax1, ax2, ax3])\n",
        "\n",
        "plt.show()"
      ],
      "execution_count": 134,
      "outputs": [
        {
          "output_type": "display_data",
          "data": {
            "image/png": "[encoded data removed]",
            "text/plain": [
              "<Figure size 432x288 with 4 Axes>"
            ]
          },
          "metadata": {
            "tags": [],
            "needs_background": "light"
          }
        }
      ]
    },
    {
      "cell_type": "markdown",
      "metadata": {
        "colab_type": "text",
        "id": "XOkzxs94GyIR"
      },
      "source": [
        "## Clamped boundary condition"
      ]
    },
    {
      "cell_type": "markdown",
      "metadata": {
        "colab_type": "text",
        "id": "Gu_AcFg0GyIS"
      },
      "source": [
        "Prediction"
      ]
    },
    {
      "cell_type": "code",
      "metadata": {
        "colab_type": "code",
        "id": "ONclf65fGyIS",
        "colab": {}
      },
      "source": [
        "OUT_clamped_noisy = model.predict(X_clamped_noisy.reshape(1,16,64,1))"
      ],
      "execution_count": 135,
      "outputs": []
    },
    {
      "cell_type": "markdown",
      "metadata": {
        "colab_type": "text",
        "id": "Glkk6TS8GyIW"
      },
      "source": [
        "Metrics evaluation"
      ]
    },
    {
      "cell_type": "code",
      "metadata": {
        "colab_type": "code",
        "id": "n97hyIDQGyIW",
        "colab": {
          "base_uri": "https://localhost:8080/",
          "height": 52
        },
        "outputId": "e966a556-fb43-4efb-c470-074c09706d92"
      },
      "source": [
        "ncc_clamped_noisy = nccMetric(OUT_clamped_noisy, GT_clamped)\n",
        "nmse_clamped_noisy = nmseMetric(OUT_clamped_noisy, GT_clamped)\n",
        "\n",
        "print(\"NCC = \", ncc_clamped_noisy)\n",
        "print(\"NMSE(dB) = \", nmse_clamped_noisy)"
      ],
      "execution_count": 136,
      "outputs": [
        {
          "output_type": "stream",
          "text": [
            "NCC =  0.9996120712870673\n",
            "NMSE(dB) =  -31.078174554122775\n"
          ],
          "name": "stdout"
        }
      ]
    },
    {
      "cell_type": "markdown",
      "metadata": {
        "colab_type": "text",
        "id": "hMA6xIVJGyIY"
      },
      "source": [
        "View output"
      ]
    },
    {
      "cell_type": "code",
      "metadata": {
        "colab_type": "code",
        "id": "tZea7LXFGyIY",
        "colab": {
          "base_uri": "https://localhost:8080/",
          "height": 294
        },
        "outputId": "8fb0a47e-4c40-4049-e1d0-2994c196ce00"
      },
      "source": [
        "fig = plt.figure()\n",
        "fig.suptitle(\"Clamped BC prediction\", fontsize=16)\n",
        "\n",
        "# IN\n",
        "ax1 = plt.subplot(3, 1, 1)\n",
        "first = plt.imshow(X_clamped_noisy.reshape(16, 64))\n",
        "plt.ylabel(\"IN pressure\")\n",
        "plt.gray()\n",
        "\n",
        "# OUT\n",
        "ax2 = plt.subplot(3, 1, 2, sharex=ax1)\n",
        "plt.imshow(OUT_clamped_noisy.reshape(16, 64))\n",
        "plt.ylabel(\"OUT estimated\")\n",
        "plt.gray()\n",
        "\n",
        "# GT\n",
        "ax3 = plt.subplot(3, 1, 3, sharex=ax2)\n",
        "plt.imshow(GT_clamped.reshape(16, 64))\n",
        "plt.ylabel(\"GT velocity\")\n",
        "plt.gray()\n",
        "\n",
        "plt.setp(ax1.get_xticklabels(), visible=False)\n",
        "plt.setp(ax2.get_xticklabels(), visible=False)\n",
        "fig.colorbar(first, ax=[ax1, ax2, ax3])\n",
        "\n",
        "plt.show()"
      ],
      "execution_count": 137,
      "outputs": [
        {
          "output_type": "display_data",
          "data": {
            "image/png": "[encoded data removed]",
            "text/plain": [
              "<Figure size 432x288 with 4 Axes>"
            ]
          },
          "metadata": {
            "tags": [],
            "needs_background": "light"
          }
        }
      ]
    },
    {
      "cell_type": "markdown",
      "metadata": {
        "colab_type": "text",
        "id": "H54UL-2HGyIa"
      },
      "source": [
        "## Free boundary condition"
      ]
    },
    {
      "cell_type": "markdown",
      "metadata": {
        "colab_type": "text",
        "id": "1AcahVp_GyIb"
      },
      "source": [
        "Prediction"
      ]
    },
    {
      "cell_type": "code",
      "metadata": {
        "colab_type": "code",
        "id": "j9EMBe-7GyIb",
        "colab": {}
      },
      "source": [
        "OUT_free_noisy = model.predict(X_free_noisy.reshape(1,16,64,1))"
      ],
      "execution_count": 138,
      "outputs": []
    },
    {
      "cell_type": "markdown",
      "metadata": {
        "colab_type": "text",
        "id": "kZ_8CfC6GyId"
      },
      "source": [
        "Metrics evaluation"
      ]
    },
    {
      "cell_type": "code",
      "metadata": {
        "colab_type": "code",
        "id": "Fiu8148cGyId",
        "colab": {
          "base_uri": "https://localhost:8080/",
          "height": 52
        },
        "outputId": "cecfa8cc-bd81-4f09-92db-0650a472fede"
      },
      "source": [
        "ncc_free_noisy = nccMetric(OUT_free_noisy, GT_free)\n",
        "nmse_free_noisy = nmseMetric(OUT_free_noisy, GT_free)\n",
        "\n",
        "print(\"NCC = \", ncc_free_noisy)\n",
        "print(\"NMSE(dB) = \", nmse_free_noisy)"
      ],
      "execution_count": 139,
      "outputs": [
        {
          "output_type": "stream",
          "text": [
            "NCC =  0.9993969283532269\n",
            "NMSE(dB) =  -29.13734950205878\n"
          ],
          "name": "stdout"
        }
      ]
    },
    {
      "cell_type": "markdown",
      "metadata": {
        "colab_type": "text",
        "id": "NApoHzH4GyIg"
      },
      "source": [
        "View output"
      ]
    },
    {
      "cell_type": "code",
      "metadata": {
        "colab_type": "code",
        "id": "ivZmIiIRGyIg",
        "colab": {
          "base_uri": "https://localhost:8080/",
          "height": 294
        },
        "outputId": "43c06b53-1829-47e9-ed1a-e24d4f2b79ed"
      },
      "source": [
        "fig = plt.figure()\n",
        "fig.suptitle(\"Free BC prediction\", fontsize=16)\n",
        "\n",
        "# IN\n",
        "ax1 = plt.subplot(3, 1, 1)\n",
        "first = plt.imshow(X_free_noisy.reshape(16, 64))\n",
        "plt.ylabel(\"IN pressure\")\n",
        "plt.gray()\n",
        "\n",
        "# OUT\n",
        "ax2 = plt.subplot(3, 1, 2, sharex=ax1)\n",
        "plt.imshow(OUT_free_noisy.reshape(16, 64))\n",
        "plt.ylabel(\"OUT estimated\")\n",
        "plt.gray()\n",
        "\n",
        "# GT\n",
        "ax3 = plt.subplot(3, 1, 3, sharex=ax2)\n",
        "plt.imshow(GT_free.reshape(16, 64))\n",
        "plt.ylabel(\"GT velocity\")\n",
        "plt.gray()\n",
        "\n",
        "plt.setp(ax1.get_xticklabels(), visible=False)\n",
        "plt.setp(ax2.get_xticklabels(), visible=False)\n",
        "fig.colorbar(first, ax=[ax1, ax2, ax3])\n",
        "\n",
        "plt.show()"
      ],
      "execution_count": 140,
      "outputs": [
        {
          "output_type": "display_data",
          "data": {
            "image/png": "[encoded data removed]",
            "text/plain": [
              "<Figure size 432x288 with 4 Axes>"
            ]
          },
          "metadata": {
            "tags": [],
            "needs_background": "light"
          }
        }
      ]
    }
  ]
}