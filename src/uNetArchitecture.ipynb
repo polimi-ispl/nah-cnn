{
  "nbformat": 4,
  "nbformat_minor": 0,
  "metadata": {
    "colab": {
      "name": "uNetArchitecture.ipynb",
      "provenance": [],
      "collapsed_sections": [],
      "toc_visible": true
    },
    "kernelspec": {
      "name": "python3",
      "display_name": "Python 3"
    }
  },
  "cells": [
    {
      "cell_type": "markdown",
      "metadata": {
        "id": "mN-wGvcT5LID",
        "colab_type": "text"
      },
      "source": [
        "# Imports"
      ]
    },
    {
      "cell_type": "code",
      "metadata": {
        "id": "ZuQHx9105kBO",
        "colab_type": "code",
        "colab": {}
      },
      "source": [
        "from tensorflow.keras.models import Model\n",
        "from tensorflow.keras.layers import *"
      ],
      "execution_count": 4,
      "outputs": []
    },
    {
      "cell_type": "markdown",
      "metadata": {
        "id": "FgW4x19v5HMC",
        "colab_type": "text"
      },
      "source": [
        "# CNN architecture"
      ]
    },
    {
      "cell_type": "code",
      "metadata": {
        "id": "nB_JEnwk4-NS",
        "colab_type": "code",
        "colab": {}
      },
      "source": [
        "def build_model(input_layer, start_neurons):\n",
        "\n",
        "  # *** ENCODER ***\n",
        "\n",
        "  x1 = Conv2D(start_neurons*1, (3, 3), activation='relu', padding='same')(input_img)\n",
        "  x1 = Conv2D(start_neurons*1, (3, 3), activation='relu', padding='same')(x1)\n",
        "  pool1 = MaxPooling2D((2, 2))(x1)\n",
        "\n",
        "  x2 = Conv2D(start_neurons*2, (3, 3), activation='relu', padding='same')(pool1)\n",
        "  x2 = Conv2D(start_neurons*2, (3, 3), activation='relu', padding='same')(x2)\n",
        "  pool2 = MaxPooling2D((2, 2))(x2)\n",
        "\n",
        "  x3 = Conv2D(start_neurons*4, (3, 3), activation='relu', padding='same')(pool2)\n",
        "  x3 = Conv2D(start_neurons*4, (3, 3), activation='relu', padding='same')(x3)\n",
        "  pool3 = MaxPooling2D((2, 2))(x3)\n",
        "\n",
        "  x4 = Conv2D(start_neurons*8, (3, 3), activation='relu', padding='same')(pool3)\n",
        "  x4 = Conv2D(start_neurons*8, (3, 3), activation='relu', padding='same')(x4)\n",
        "  pool4 = MaxPooling2D((2, 2))(x4)\n",
        "\n",
        "  # *** MIDDLE ***\n",
        "  center = Conv2D(start_neurons*16, (3, 3), activation='relu', padding='same')(pool4)\n",
        "\n",
        "  # *** DECODER ***\n",
        "\n",
        "  y4 = Conv2DTranspose(start_neurons*8, (3, 3), strides=(2, 2), padding=\"same\")(center)\n",
        "  y4 = concatenate([y4, x4])\n",
        "  y4 = Conv2D(start_neurons*8, (3, 3), activation='relu', padding='same')(y4)\n",
        "  y4 = Conv2D(start_neurons*8, (3, 3), activation='relu', padding='same')(y4)\n",
        "\n",
        "  y3 = Conv2DTranspose(start_neurons*4, (3, 3), strides=(2, 2), padding=\"same\")(y4)\n",
        "  y3 = concatenate([y3, x3])\n",
        "  y3 = Conv2D(start_neurons*4, (3, 3), activation='relu', padding='same')(y3)\n",
        "  y3 = Conv2D(start_neurons*4, (3, 3), activation='relu', padding='same')(y3)\n",
        "\n",
        "  y2 = Conv2DTranspose(start_neurons*2, (3, 3), strides=(2, 2), padding=\"same\")(y3)\n",
        "  y2 = concatenate([y2, x2])\n",
        "  y2 = Conv2D(start_neurons*2, (3, 3), activation='relu', padding='same')(y2)\n",
        "  y2 = Conv2D(start_neurons*2, (3, 3), activation='relu', padding='same')(y2)\n",
        "\n",
        "  y1 = Conv2DTranspose(start_neurons*1, (3, 3), strides=(2, 2), padding=\"same\")(y2)\n",
        "  y1 = concatenate([y1, x1])\n",
        "  y1 = Conv2D(start_neurons*1, (3, 3), activation='relu', padding='same')(y1)\n",
        "  y1 = Conv2D(start_neurons*1, (3, 3), activation='relu', padding='same')(y1)\n",
        "\n",
        "  output_layer = Conv2D(1, (1,1), padding=\"same\", activation=\"sigmoid\")(y1)\n",
        "\n",
        "  return output_layer"
      ],
      "execution_count": null,
      "outputs": []
    },
    {
      "cell_type": "code",
      "metadata": {
        "id": "OSYAkBky53Z_",
        "colab_type": "code",
        "colab": {}
      },
      "source": [
        "# UNet definition\n",
        "\n",
        "input_img = Input(shape=(16, 64, 1))  # adapt this if using `channels_first` image data format\n",
        "out_layer = build_model(input_img, 16) # num = start_neurons\n",
        "\n",
        "model = Model(input_img, out_layer)\n",
        "\n",
        "model.compile(loss=['mean_squared_error'], optimizer='adam', metrics=['mean_squared_error'])\n",
        "\n",
        "model.summary()"
      ],
      "execution_count": null,
      "outputs": []
    }
  ]
}